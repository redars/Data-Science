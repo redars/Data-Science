{
  "nbformat": 4,
  "nbformat_minor": 0,
  "metadata": {
    "colab": {
      "provenance": []
    },
    "kernelspec": {
      "name": "python3",
      "display_name": "Python 3"
    },
    "language_info": {
      "name": "python"
    }
  },
  "cells": [
    {
      "cell_type": "markdown",
      "source": [
        "**Котов Арсений 4181**"
      ],
      "metadata": {
        "id": "uv4eB-80uwxP"
      }
    },
    {
      "cell_type": "markdown",
      "source": [
        "Импорт необходимых библиотек."
      ],
      "metadata": {
        "id": "lJvTomUZ8Rkr"
      }
    },
    {
      "cell_type": "code",
      "source": [
        "import pandas as pd\n",
        "import matplotlib.pyplot as plt\n",
        "from sklearn import svm\n",
        "from sklearn.naive_bayes import GaussianNB\n",
        "from sklearn.neighbors import KNeighborsClassifier\n",
        "import numpy as np\n",
        "import random"
      ],
      "metadata": {
        "id": "41mpzokCEBKx"
      },
      "execution_count": 9,
      "outputs": []
    },
    {
      "cell_type": "markdown",
      "source": [
        "Исходные данные. Класс 1 - фирмы, уплачивающие все налоги. 2 - фирмы - уплачивающие не все налоги."
      ],
      "metadata": {
        "id": "H7_qzckI8F6B"
      }
    },
    {
      "cell_type": "code",
      "execution_count": 10,
      "metadata": {
        "colab": {
          "base_uri": "https://localhost:8080/",
          "height": 770
        },
        "id": "T0eptLIqutvy",
        "outputId": "18dc0cff-a009-4b29-f3a8-828f11cf8bdf"
      },
      "outputs": [
        {
          "output_type": "execute_result",
          "data": {
            "text/plain": [
              "     x1   x2  y\n",
              "0   740  680  1\n",
              "1   670  600  1\n",
              "2   560  550  1\n",
              "3   540  520  1\n",
              "4   590  540  1\n",
              "5   590  700  1\n",
              "6   470  600  1\n",
              "7   560  540  1\n",
              "8   540  630  1\n",
              "9   500  600  1\n",
              "10  750  590  2\n",
              "11  360  600  2\n",
              "12  720  750  2\n",
              "13  540  710  2\n",
              "14  570  700  2\n",
              "15  520  670  2\n",
              "16  590  790  2\n",
              "17  670  700  2\n",
              "18  620  730  2\n",
              "19  690  840  2\n",
              "20  610  680  2\n",
              "21  550  730  2\n",
              "22  590  750  2"
            ],
            "text/html": [
              "\n",
              "  <div id=\"df-bb26b7f3-f184-4398-aa0c-d93017f36452\" class=\"colab-df-container\">\n",
              "    <div>\n",
              "<style scoped>\n",
              "    .dataframe tbody tr th:only-of-type {\n",
              "        vertical-align: middle;\n",
              "    }\n",
              "\n",
              "    .dataframe tbody tr th {\n",
              "        vertical-align: top;\n",
              "    }\n",
              "\n",
              "    .dataframe thead th {\n",
              "        text-align: right;\n",
              "    }\n",
              "</style>\n",
              "<table border=\"1\" class=\"dataframe\">\n",
              "  <thead>\n",
              "    <tr style=\"text-align: right;\">\n",
              "      <th></th>\n",
              "      <th>x1</th>\n",
              "      <th>x2</th>\n",
              "      <th>y</th>\n",
              "    </tr>\n",
              "  </thead>\n",
              "  <tbody>\n",
              "    <tr>\n",
              "      <th>0</th>\n",
              "      <td>740</td>\n",
              "      <td>680</td>\n",
              "      <td>1</td>\n",
              "    </tr>\n",
              "    <tr>\n",
              "      <th>1</th>\n",
              "      <td>670</td>\n",
              "      <td>600</td>\n",
              "      <td>1</td>\n",
              "    </tr>\n",
              "    <tr>\n",
              "      <th>2</th>\n",
              "      <td>560</td>\n",
              "      <td>550</td>\n",
              "      <td>1</td>\n",
              "    </tr>\n",
              "    <tr>\n",
              "      <th>3</th>\n",
              "      <td>540</td>\n",
              "      <td>520</td>\n",
              "      <td>1</td>\n",
              "    </tr>\n",
              "    <tr>\n",
              "      <th>4</th>\n",
              "      <td>590</td>\n",
              "      <td>540</td>\n",
              "      <td>1</td>\n",
              "    </tr>\n",
              "    <tr>\n",
              "      <th>5</th>\n",
              "      <td>590</td>\n",
              "      <td>700</td>\n",
              "      <td>1</td>\n",
              "    </tr>\n",
              "    <tr>\n",
              "      <th>6</th>\n",
              "      <td>470</td>\n",
              "      <td>600</td>\n",
              "      <td>1</td>\n",
              "    </tr>\n",
              "    <tr>\n",
              "      <th>7</th>\n",
              "      <td>560</td>\n",
              "      <td>540</td>\n",
              "      <td>1</td>\n",
              "    </tr>\n",
              "    <tr>\n",
              "      <th>8</th>\n",
              "      <td>540</td>\n",
              "      <td>630</td>\n",
              "      <td>1</td>\n",
              "    </tr>\n",
              "    <tr>\n",
              "      <th>9</th>\n",
              "      <td>500</td>\n",
              "      <td>600</td>\n",
              "      <td>1</td>\n",
              "    </tr>\n",
              "    <tr>\n",
              "      <th>10</th>\n",
              "      <td>750</td>\n",
              "      <td>590</td>\n",
              "      <td>2</td>\n",
              "    </tr>\n",
              "    <tr>\n",
              "      <th>11</th>\n",
              "      <td>360</td>\n",
              "      <td>600</td>\n",
              "      <td>2</td>\n",
              "    </tr>\n",
              "    <tr>\n",
              "      <th>12</th>\n",
              "      <td>720</td>\n",
              "      <td>750</td>\n",
              "      <td>2</td>\n",
              "    </tr>\n",
              "    <tr>\n",
              "      <th>13</th>\n",
              "      <td>540</td>\n",
              "      <td>710</td>\n",
              "      <td>2</td>\n",
              "    </tr>\n",
              "    <tr>\n",
              "      <th>14</th>\n",
              "      <td>570</td>\n",
              "      <td>700</td>\n",
              "      <td>2</td>\n",
              "    </tr>\n",
              "    <tr>\n",
              "      <th>15</th>\n",
              "      <td>520</td>\n",
              "      <td>670</td>\n",
              "      <td>2</td>\n",
              "    </tr>\n",
              "    <tr>\n",
              "      <th>16</th>\n",
              "      <td>590</td>\n",
              "      <td>790</td>\n",
              "      <td>2</td>\n",
              "    </tr>\n",
              "    <tr>\n",
              "      <th>17</th>\n",
              "      <td>670</td>\n",
              "      <td>700</td>\n",
              "      <td>2</td>\n",
              "    </tr>\n",
              "    <tr>\n",
              "      <th>18</th>\n",
              "      <td>620</td>\n",
              "      <td>730</td>\n",
              "      <td>2</td>\n",
              "    </tr>\n",
              "    <tr>\n",
              "      <th>19</th>\n",
              "      <td>690</td>\n",
              "      <td>840</td>\n",
              "      <td>2</td>\n",
              "    </tr>\n",
              "    <tr>\n",
              "      <th>20</th>\n",
              "      <td>610</td>\n",
              "      <td>680</td>\n",
              "      <td>2</td>\n",
              "    </tr>\n",
              "    <tr>\n",
              "      <th>21</th>\n",
              "      <td>550</td>\n",
              "      <td>730</td>\n",
              "      <td>2</td>\n",
              "    </tr>\n",
              "    <tr>\n",
              "      <th>22</th>\n",
              "      <td>590</td>\n",
              "      <td>750</td>\n",
              "      <td>2</td>\n",
              "    </tr>\n",
              "  </tbody>\n",
              "</table>\n",
              "</div>\n",
              "    <div class=\"colab-df-buttons\">\n",
              "\n",
              "  <div class=\"colab-df-container\">\n",
              "    <button class=\"colab-df-convert\" onclick=\"convertToInteractive('df-bb26b7f3-f184-4398-aa0c-d93017f36452')\"\n",
              "            title=\"Convert this dataframe to an interactive table.\"\n",
              "            style=\"display:none;\">\n",
              "\n",
              "  <svg xmlns=\"http://www.w3.org/2000/svg\" height=\"24px\" viewBox=\"0 -960 960 960\">\n",
              "    <path d=\"M120-120v-720h720v720H120Zm60-500h600v-160H180v160Zm220 220h160v-160H400v160Zm0 220h160v-160H400v160ZM180-400h160v-160H180v160Zm440 0h160v-160H620v160ZM180-180h160v-160H180v160Zm440 0h160v-160H620v160Z\"/>\n",
              "  </svg>\n",
              "    </button>\n",
              "\n",
              "  <style>\n",
              "    .colab-df-container {\n",
              "      display:flex;\n",
              "      gap: 12px;\n",
              "    }\n",
              "\n",
              "    .colab-df-convert {\n",
              "      background-color: #E8F0FE;\n",
              "      border: none;\n",
              "      border-radius: 50%;\n",
              "      cursor: pointer;\n",
              "      display: none;\n",
              "      fill: #1967D2;\n",
              "      height: 32px;\n",
              "      padding: 0 0 0 0;\n",
              "      width: 32px;\n",
              "    }\n",
              "\n",
              "    .colab-df-convert:hover {\n",
              "      background-color: #E2EBFA;\n",
              "      box-shadow: 0px 1px 2px rgba(60, 64, 67, 0.3), 0px 1px 3px 1px rgba(60, 64, 67, 0.15);\n",
              "      fill: #174EA6;\n",
              "    }\n",
              "\n",
              "    .colab-df-buttons div {\n",
              "      margin-bottom: 4px;\n",
              "    }\n",
              "\n",
              "    [theme=dark] .colab-df-convert {\n",
              "      background-color: #3B4455;\n",
              "      fill: #D2E3FC;\n",
              "    }\n",
              "\n",
              "    [theme=dark] .colab-df-convert:hover {\n",
              "      background-color: #434B5C;\n",
              "      box-shadow: 0px 1px 3px 1px rgba(0, 0, 0, 0.15);\n",
              "      filter: drop-shadow(0px 1px 2px rgba(0, 0, 0, 0.3));\n",
              "      fill: #FFFFFF;\n",
              "    }\n",
              "  </style>\n",
              "\n",
              "    <script>\n",
              "      const buttonEl =\n",
              "        document.querySelector('#df-bb26b7f3-f184-4398-aa0c-d93017f36452 button.colab-df-convert');\n",
              "      buttonEl.style.display =\n",
              "        google.colab.kernel.accessAllowed ? 'block' : 'none';\n",
              "\n",
              "      async function convertToInteractive(key) {\n",
              "        const element = document.querySelector('#df-bb26b7f3-f184-4398-aa0c-d93017f36452');\n",
              "        const dataTable =\n",
              "          await google.colab.kernel.invokeFunction('convertToInteractive',\n",
              "                                                    [key], {});\n",
              "        if (!dataTable) return;\n",
              "\n",
              "        const docLinkHtml = 'Like what you see? Visit the ' +\n",
              "          '<a target=\"_blank\" href=https://colab.research.google.com/notebooks/data_table.ipynb>data table notebook</a>'\n",
              "          + ' to learn more about interactive tables.';\n",
              "        element.innerHTML = '';\n",
              "        dataTable['output_type'] = 'display_data';\n",
              "        await google.colab.output.renderOutput(dataTable, element);\n",
              "        const docLink = document.createElement('div');\n",
              "        docLink.innerHTML = docLinkHtml;\n",
              "        element.appendChild(docLink);\n",
              "      }\n",
              "    </script>\n",
              "  </div>\n",
              "\n",
              "\n",
              "<div id=\"df-b53d381e-c85e-42bc-b3b9-1c2a0c9d9ba7\">\n",
              "  <button class=\"colab-df-quickchart\" onclick=\"quickchart('df-b53d381e-c85e-42bc-b3b9-1c2a0c9d9ba7')\"\n",
              "            title=\"Suggest charts.\"\n",
              "            style=\"display:none;\">\n",
              "\n",
              "<svg xmlns=\"http://www.w3.org/2000/svg\" height=\"24px\"viewBox=\"0 0 24 24\"\n",
              "     width=\"24px\">\n",
              "    <g>\n",
              "        <path d=\"M19 3H5c-1.1 0-2 .9-2 2v14c0 1.1.9 2 2 2h14c1.1 0 2-.9 2-2V5c0-1.1-.9-2-2-2zM9 17H7v-7h2v7zm4 0h-2V7h2v10zm4 0h-2v-4h2v4z\"/>\n",
              "    </g>\n",
              "</svg>\n",
              "  </button>\n",
              "\n",
              "<style>\n",
              "  .colab-df-quickchart {\n",
              "      --bg-color: #E8F0FE;\n",
              "      --fill-color: #1967D2;\n",
              "      --hover-bg-color: #E2EBFA;\n",
              "      --hover-fill-color: #174EA6;\n",
              "      --disabled-fill-color: #AAA;\n",
              "      --disabled-bg-color: #DDD;\n",
              "  }\n",
              "\n",
              "  [theme=dark] .colab-df-quickchart {\n",
              "      --bg-color: #3B4455;\n",
              "      --fill-color: #D2E3FC;\n",
              "      --hover-bg-color: #434B5C;\n",
              "      --hover-fill-color: #FFFFFF;\n",
              "      --disabled-bg-color: #3B4455;\n",
              "      --disabled-fill-color: #666;\n",
              "  }\n",
              "\n",
              "  .colab-df-quickchart {\n",
              "    background-color: var(--bg-color);\n",
              "    border: none;\n",
              "    border-radius: 50%;\n",
              "    cursor: pointer;\n",
              "    display: none;\n",
              "    fill: var(--fill-color);\n",
              "    height: 32px;\n",
              "    padding: 0;\n",
              "    width: 32px;\n",
              "  }\n",
              "\n",
              "  .colab-df-quickchart:hover {\n",
              "    background-color: var(--hover-bg-color);\n",
              "    box-shadow: 0 1px 2px rgba(60, 64, 67, 0.3), 0 1px 3px 1px rgba(60, 64, 67, 0.15);\n",
              "    fill: var(--button-hover-fill-color);\n",
              "  }\n",
              "\n",
              "  .colab-df-quickchart-complete:disabled,\n",
              "  .colab-df-quickchart-complete:disabled:hover {\n",
              "    background-color: var(--disabled-bg-color);\n",
              "    fill: var(--disabled-fill-color);\n",
              "    box-shadow: none;\n",
              "  }\n",
              "\n",
              "  .colab-df-spinner {\n",
              "    border: 2px solid var(--fill-color);\n",
              "    border-color: transparent;\n",
              "    border-bottom-color: var(--fill-color);\n",
              "    animation:\n",
              "      spin 1s steps(1) infinite;\n",
              "  }\n",
              "\n",
              "  @keyframes spin {\n",
              "    0% {\n",
              "      border-color: transparent;\n",
              "      border-bottom-color: var(--fill-color);\n",
              "      border-left-color: var(--fill-color);\n",
              "    }\n",
              "    20% {\n",
              "      border-color: transparent;\n",
              "      border-left-color: var(--fill-color);\n",
              "      border-top-color: var(--fill-color);\n",
              "    }\n",
              "    30% {\n",
              "      border-color: transparent;\n",
              "      border-left-color: var(--fill-color);\n",
              "      border-top-color: var(--fill-color);\n",
              "      border-right-color: var(--fill-color);\n",
              "    }\n",
              "    40% {\n",
              "      border-color: transparent;\n",
              "      border-right-color: var(--fill-color);\n",
              "      border-top-color: var(--fill-color);\n",
              "    }\n",
              "    60% {\n",
              "      border-color: transparent;\n",
              "      border-right-color: var(--fill-color);\n",
              "    }\n",
              "    80% {\n",
              "      border-color: transparent;\n",
              "      border-right-color: var(--fill-color);\n",
              "      border-bottom-color: var(--fill-color);\n",
              "    }\n",
              "    90% {\n",
              "      border-color: transparent;\n",
              "      border-bottom-color: var(--fill-color);\n",
              "    }\n",
              "  }\n",
              "</style>\n",
              "\n",
              "  <script>\n",
              "    async function quickchart(key) {\n",
              "      const quickchartButtonEl =\n",
              "        document.querySelector('#' + key + ' button');\n",
              "      quickchartButtonEl.disabled = true;  // To prevent multiple clicks.\n",
              "      quickchartButtonEl.classList.add('colab-df-spinner');\n",
              "      try {\n",
              "        const charts = await google.colab.kernel.invokeFunction(\n",
              "            'suggestCharts', [key], {});\n",
              "      } catch (error) {\n",
              "        console.error('Error during call to suggestCharts:', error);\n",
              "      }\n",
              "      quickchartButtonEl.classList.remove('colab-df-spinner');\n",
              "      quickchartButtonEl.classList.add('colab-df-quickchart-complete');\n",
              "    }\n",
              "    (() => {\n",
              "      let quickchartButtonEl =\n",
              "        document.querySelector('#df-b53d381e-c85e-42bc-b3b9-1c2a0c9d9ba7 button');\n",
              "      quickchartButtonEl.style.display =\n",
              "        google.colab.kernel.accessAllowed ? 'block' : 'none';\n",
              "    })();\n",
              "  </script>\n",
              "</div>\n",
              "    </div>\n",
              "  </div>\n"
            ]
          },
          "metadata": {},
          "execution_count": 10
        }
      ],
      "source": [
        "df = pd.read_csv(\"firms_.csv\")\n",
        "df"
      ]
    },
    {
      "cell_type": "markdown",
      "source": [
        "Группировка данных. Диаграмма рассеяности исходных данных. Можно заметить, что принадлежность фирмы, которую надо найти, по графику нельзя явно определить."
      ],
      "metadata": {
        "id": "hsnZT0vF8WMv"
      }
    },
    {
      "cell_type": "code",
      "source": [
        "X1 = []\n",
        "X2 = []\n",
        "X1_ = []\n",
        "X2_ = []\n",
        "X = [[df['x1'][i],df['x2'][i]] for i in range(0,len(df['x1']))]\n",
        "for el in df.iterrows():\n",
        "  if el[1]['y'] == 1:\n",
        "    X1.append(el[1]['x1'])\n",
        "    X2.append(el[1]['x2'])\n",
        "  else:\n",
        "    X1_.append(el[1]['x1'])\n",
        "    X2_.append(el[1]['x2'])"
      ],
      "metadata": {
        "id": "CMuDMhBLLHEv"
      },
      "execution_count": 11,
      "outputs": []
    },
    {
      "cell_type": "code",
      "source": [
        "plt.scatter(X1,X2,color='blue')\n",
        "plt.scatter(X1_,X2_,color='green')\n",
        "plt.scatter(740,590,color='red')\n",
        "plt.title('Firms (not) evading taxes')\n",
        "plt.ylabel('x2')\n",
        "plt.xlabel('x1')\n",
        "plt.legend(['Firms paying all taxes', 'Firms evading taxes','Unknown firm'], loc='upper left')\n",
        "plt.show()"
      ],
      "metadata": {
        "id": "SkMPJUsAcKD-",
        "colab": {
          "base_uri": "https://localhost:8080/",
          "height": 472
        },
        "outputId": "05ccdf9e-8941-4251-b1f6-86b72d309c36"
      },
      "execution_count": 12,
      "outputs": [
        {
          "output_type": "display_data",
          "data": {
            "text/plain": [
              "<Figure size 640x480 with 1 Axes>"
            ],
            "image/png": "[encoded data removed]"
          },
          "metadata": {}
        }
      ]
    },
    {
      "cell_type": "markdown",
      "source": [
        "Сплит данных на тестовые(20%) и тренировочные (80%)."
      ],
      "metadata": {
        "id": "_mUS8fTO8_wW"
      }
    },
    {
      "cell_type": "code",
      "source": [
        "x_train = []\n",
        "x_test = []\n",
        "y_train = []\n",
        "y_test = []\n",
        "percent = 0.8\n",
        "for i in range(0, len(X1)):\n",
        "  if i <= percent*len(X1):\n",
        "    x_train.append([X1[i],X2[i]])\n",
        "    y_train.append(1)\n",
        "  else:\n",
        "    x_test.append([X1[i],X2[i]])\n",
        "    y_test.append(1)\n",
        "for i in range(0, len(X1_)):\n",
        "  if i <= percent*len(X1_):\n",
        "    x_train.append([X1_[i],X2_[i]])\n",
        "    y_train.append(2)\n",
        "  else:\n",
        "    x_test.append([X1_[i],X2_[i]])\n",
        "    y_test.append(2)"
      ],
      "metadata": {
        "id": "l0Waum-Hgro4"
      },
      "execution_count": 13,
      "outputs": []
    },
    {
      "cell_type": "markdown",
      "source": [
        "Метод, вычисляющий точность построенной модели."
      ],
      "metadata": {
        "id": "oRivrz_h9KAH"
      }
    },
    {
      "cell_type": "code",
      "source": [
        "def Check_accuracy(model,x,y):\n",
        "  predicted_y = model.predict(x)\n",
        "  res = 0\n",
        "  for i in range(0, len(y)):\n",
        "    if predicted_y[i] == y[i]:\n",
        "      res +=1\n",
        "  return res/len(y)"
      ],
      "metadata": {
        "id": "saaVHdxojYLp"
      },
      "execution_count": 14,
      "outputs": []
    },
    {
      "cell_type": "markdown",
      "source": [
        "Kernel (ядро) отвечается за гиперплоскость и может принимать значения “linear” (для линейной), “rbf”,”poly” (для нелинейной). Gamma — это ширина rbf ядра (kernel). Она участвует в подгонке модели и может являться причиной переобучения. С — параметр регуляризации. Он в том числе контролирует соотношение между гладкой границей и корректной классификацией рассматриваемых точек."
      ],
      "metadata": {
        "id": "F9O2rXtqe3to"
      }
    },
    {
      "cell_type": "code",
      "source": [
        "best_models = []\n",
        "predict_f = np.array([740,590]).reshape(1,-1)\n",
        "for kernel in ['rbf','linear','poly','sigmoid']:\n",
        "  for C in [0.2,0.4,0.6,0.8,1]:\n",
        "    for gamma in ['scale', 'auto']:\n",
        "      svm_model = svm.SVC(C=C, kernel=kernel, gamma=gamma)\n",
        "      svm_model.fit(x_train,y_train)\n",
        "      accuracy = Check_accuracy(svm_model,x_test,y_test)\n",
        "      #print(f'Configuration kernel = {kernel}, gamma = {gamma}, C = {C} accuracy: {accuracy}')\n",
        "      if accuracy == 1.0:\n",
        "        best_models.append(svm_model)\n",
        "      #a = svm_model.predict(np.array([740,590]).reshape(1,-1))\n",
        "      #print(a)\n",
        "print('The best configurations are:')\n",
        "for el in best_models:\n",
        "  print(f'kernel = {el.kernel}, gamma = {el.gamma}, C = {el.C}')\n",
        "\n",
        "print(f'The model has predicted, that [740,590] is a behavior of {svm_model.predict(predict_f)[0]} class')"
      ],
      "metadata": {
        "id": "n1UqR3spMZH9",
        "colab": {
          "base_uri": "https://localhost:8080/"
        },
        "outputId": "77143670-6a83-48f8-965b-afe2a7239ebd"
      },
      "execution_count": 15,
      "outputs": [
        {
          "output_type": "stream",
          "name": "stdout",
          "text": [
            "The best configurations are:\n",
            "kernel = rbf, gamma = scale, C = 0.4\n",
            "kernel = rbf, gamma = scale, C = 0.6\n",
            "kernel = rbf, gamma = scale, C = 0.8\n",
            "kernel = rbf, gamma = scale, C = 1\n",
            "kernel = poly, gamma = scale, C = 0.2\n",
            "kernel = poly, gamma = auto, C = 0.2\n",
            "kernel = poly, gamma = scale, C = 0.4\n",
            "kernel = poly, gamma = auto, C = 0.4\n",
            "kernel = poly, gamma = scale, C = 0.6\n",
            "kernel = poly, gamma = auto, C = 0.6\n",
            "kernel = poly, gamma = scale, C = 0.8\n",
            "kernel = poly, gamma = auto, C = 0.8\n",
            "kernel = poly, gamma = scale, C = 1\n",
            "kernel = poly, gamma = auto, C = 1\n",
            "The model has predicted, that [740,590] is a behavior of 2 class\n"
          ]
        }
      ]
    },
    {
      "cell_type": "markdown",
      "source": [
        "Priors\n",
        "-подобная массиву формы (n_classes,)\n",
        "априорные вероятности классов. Если указано, априоры не корректируются в соответствии с данными. Var_smoothing - доля наибольшей дисперсии всех признаков, которая добавляется к дисперсии для стабильности вычислений."
      ],
      "metadata": {
        "id": "XqHVnfjPqO-g"
      }
    },
    {
      "cell_type": "code",
      "source": [
        "gnb = GaussianNB(priors = None,var_smoothing=1e-09)\n",
        "gnb_model = gnb.fit(x_train,y_train)\n",
        "print(f'Accuracy = {gnb_model.score(x_test,y_test)}')\n",
        "print(f'The model has predicted, that [740,590] is a behavior of {gnb_model.predict(predict_f)[0]} class')"
      ],
      "metadata": {
        "id": "pzVuTPJAdiL7",
        "colab": {
          "base_uri": "https://localhost:8080/"
        },
        "outputId": "19cd6ef9-254c-4271-fb9c-b7b89e4a690e"
      },
      "execution_count": 16,
      "outputs": [
        {
          "output_type": "stream",
          "name": "stdout",
          "text": [
            "Accuracy = 1.0\n",
            "The model has predicted, that [740,590] is a behavior of 1 class\n"
          ]
        }
      ]
    },
    {
      "cell_type": "markdown",
      "source": [
        "n_neighbors - количество соседней, по которым модель определяет принадлежность к классу. weight - функция веса, используемая в предиктах. algorithm - алгоритм, высчитывающий близжайших соседей. p - параметр мощности для метрики Минковского. Когда p = 1, это эквивалентно использованию manhattan_distance (l1) и euclidean_distance (l2) для p = 2."
      ],
      "metadata": {
        "id": "RUyRPWGTtZWQ"
      }
    },
    {
      "cell_type": "code",
      "source": [
        "for n_neighbors in range(1,4):\n",
        "  for weight in ['uniform','distance']:\n",
        "    for algorithm in ['ball_tree','kd_tree','brute']:\n",
        "      for p in range(1,3):\n",
        "        k_n = KNeighborsClassifier(n_neighbors=n_neighbors,weights=weight,algorithm=algorithm,p=p)\n",
        "        k_n_model = k_n.fit(x_train,y_train)\n",
        "        print(f'Accuracy = {k_n_model.score(x_test,y_test)}')\n",
        "print(f'The model has predicted, that [740,590] is a behavior of {k_n_model.predict(predict_f)[0]} class')"
      ],
      "metadata": {
        "id": "7v06CF0mdifI",
        "colab": {
          "base_uri": "https://localhost:8080/"
        },
        "outputId": "334b4e4e-c8e2-4553-d1df-a6f1317854ce"
      },
      "execution_count": 17,
      "outputs": [
        {
          "output_type": "stream",
          "name": "stdout",
          "text": [
            "Accuracy = 1.0\n",
            "Accuracy = 1.0\n",
            "Accuracy = 1.0\n",
            "Accuracy = 1.0\n",
            "Accuracy = 1.0\n",
            "Accuracy = 1.0\n",
            "Accuracy = 1.0\n",
            "Accuracy = 1.0\n",
            "Accuracy = 1.0\n",
            "Accuracy = 1.0\n",
            "Accuracy = 1.0\n",
            "Accuracy = 1.0\n",
            "Accuracy = 0.6666666666666666\n",
            "Accuracy = 1.0\n",
            "Accuracy = 0.6666666666666666\n",
            "Accuracy = 1.0\n",
            "Accuracy = 0.6666666666666666\n",
            "Accuracy = 1.0\n",
            "Accuracy = 1.0\n",
            "Accuracy = 1.0\n",
            "Accuracy = 1.0\n",
            "Accuracy = 1.0\n",
            "Accuracy = 1.0\n",
            "Accuracy = 1.0\n",
            "Accuracy = 1.0\n",
            "Accuracy = 1.0\n",
            "Accuracy = 1.0\n",
            "Accuracy = 1.0\n",
            "Accuracy = 1.0\n",
            "Accuracy = 1.0\n",
            "Accuracy = 1.0\n",
            "Accuracy = 1.0\n",
            "Accuracy = 1.0\n",
            "Accuracy = 1.0\n",
            "Accuracy = 1.0\n",
            "Accuracy = 1.0\n",
            "The model has predicted, that [740,590] is a behavior of 2 class\n"
          ]
        }
      ]
    },
    {
      "cell_type": "markdown",
      "source": [
        "Критерий Фишера"
      ],
      "metadata": {
        "id": "XggYuNN06F8i"
      }
    },
    {
      "cell_type": "code",
      "source": [
        "d_1 = df['x1'].var()\n",
        "d_2 = df['x2'].var()\n",
        "print(d_1,d_2)\n",
        "F = d_1/d_2\n",
        "# k = n-1 = 22-1 = 21"
      ],
      "metadata": {
        "id": "BkrauZ2t6E_k",
        "colab": {
          "base_uri": "https://localhost:8080/"
        },
        "outputId": "8db1d855-8171-4a97-be9e-c99749555dc7"
      },
      "execution_count": 18,
      "outputs": [
        {
          "output_type": "stream",
          "name": "stdout",
          "text": [
            "8211.857707509882 7462.845849802371\n"
          ]
        }
      ]
    }
  ]
}